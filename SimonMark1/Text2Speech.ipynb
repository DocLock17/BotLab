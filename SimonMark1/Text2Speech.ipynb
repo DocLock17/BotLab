{
 "cells": [
  {
   "cell_type": "code",
   "execution_count": null,
   "metadata": {},
   "outputs": [],
   "source": [
    "\n",
    "import pyttsx3\n",
    "engine = pyttsx3.init()\n",
    "engine.setProperty('rate',180)\n",
    "engine.say(\"Hello Kylie,\")\n",
    "engine.setProperty('rate', 100)\n",
    "engine.say(\"how are you?\")\n",
    "engine.runAndWait()"
   ]
  },
  {
   "cell_type": "code",
   "execution_count": null,
   "metadata": {},
   "outputs": [],
   "source": [
    "# sudo apt-get update && sudo apt-get install espeak\n",
    "!pip install pyttsx3"
   ]
  },
  {
   "cell_type": "code",
   "execution_count": 6,
   "metadata": {},
   "outputs": [],
   "source": [
    "import pyttsx3\n",
    "engine = pyttsx3.init()\n",
    "engine.setProperty('voice', 'en-scottish')\n",
    "engine.setProperty('rate',60)\n",
    "# engine.say(\"Toast!\")\n",
    "engine.say(\"ollie!\")\n",
    "engine.runAndWait()\n",
    "engine.setProperty('rate',60)\n",
    "# engine.say(\"Toast!\")\n",
    "engine.say(\"Your adopted and nobody loves you!\")\n",
    "engine.runAndWait()"
   ]
  },
  {
   "cell_type": "code",
   "execution_count": null,
   "metadata": {},
   "outputs": [],
   "source": [
    "import pyttsx3\n",
    "engine = pyttsx3.init()\n",
    "engine.setProperty('voice', 'en-scottish')\n",
    "\n",
    "engine.setProperty('rate',110)\n",
    "engine.say(\"Bu!\")\n",
    "engine.runAndWait()\n",
    "engine.setProperty('rate', 110)\n",
    "engine.say(\"Ha ha ha ha\")\n",
    "engine.runAndWait()\n",
    "engine.setProperty('rate', 110)\n",
    "engine.say(\"Happy Halloween Kylee!\")\n",
    "engine.runAndWait()\n",
    "engine.setProperty('rate', 110)\n",
    "engine.say(\"Did you sleep well?\")\n",
    "engine.runAndWait()"
   ]
  },
  {
   "cell_type": "code",
   "execution_count": null,
   "metadata": {},
   "outputs": [],
   "source": []
  },
  {
   "cell_type": "code",
   "execution_count": null,
   "metadata": {},
   "outputs": [],
   "source": []
  }
 ],
 "metadata": {
  "kernelspec": {
   "display_name": "Python 3",
   "language": "python",
   "name": "python3"
  },
  "language_info": {
   "codemirror_mode": {
    "name": "ipython",
    "version": 3
   },
   "file_extension": ".py",
   "mimetype": "text/x-python",
   "name": "python",
   "nbconvert_exporter": "python",
   "pygments_lexer": "ipython3",
   "version": "3.7.3"
  }
 },
 "nbformat": 4,
 "nbformat_minor": 4
}
