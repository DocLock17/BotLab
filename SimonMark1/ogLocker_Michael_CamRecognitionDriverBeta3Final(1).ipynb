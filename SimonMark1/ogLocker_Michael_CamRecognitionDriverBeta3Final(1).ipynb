{
 "cells": [
  {
   "cell_type": "markdown",
   "metadata": {
    "colab": {},
    "colab_type": "code",
    "id": "xYzbDHC4C3TB"
   },
   "source": [
    "# Cam Recognition Driver"
   ]
  },
  {
   "cell_type": "code",
   "execution_count": 55,
   "metadata": {},
   "outputs": [
    {
     "name": "stdout",
     "output_type": "stream",
     "text": [
      "[{'name': 'Identity', 'index': 188, 'shape': array([1, 8]), 'dtype': <class 'numpy.float32'>, 'quantization': (0.0, 0)}]\n",
      "8 Classes\n",
      "Dale Jameda Joey Kylie Michael Patricia Tony Violet\n"
     ]
    }
   ],
   "source": [
    "import numpy as np\n",
    "import cv2\n",
    "from IPython.display import clear_output\n",
    "\n",
    "import tensorflow as tf\n",
    "# import tflite as tf\n",
    "# import tflite_runtime.interpreter as tflite\n",
    "\n",
    "\n",
    "lockStatus = 1\n",
    "conThres = 0.95\n",
    "lockTimeOut = 10\n",
    "\n",
    "class modelFrame():\n",
    "    def _init_(self):\n",
    "    # Load TFLite model and allocate tensors.\n",
    "    # on tensorflow lib\n",
    "    self.interpreter = tf.lite.Interpreter(model_path='savedTFLite')\n",
    "\n",
    "    # # on tflite lib\n",
    "    #self.interpreter = tflite.Interpreter(model_path=\"savedTFLite3.tflite\")\n",
    "\n",
    "    ## temp example - docs_infra: no_execute\n",
    "    #self.interpreter = tf.lite.Interpreter(model_content='savedTFLite3.tflite')\n",
    "\n",
    "    self.interpreter.allocate_tensors()\n",
    "    \n",
    "    # Get input and output tensors.\n",
    "    self.input_details = interpreter.get_input_details()\n",
    "    self.output_details = interpreter.get_output_details()\n",
    "    print(\"Callback: \",output_details)\n",
    "    if self.output_details[0]['shape'][1] == 8:\n",
    "        print('8 Classes')\n",
    "        class_labels = ['Dale','Jameda','Joey','Kylie','Michael','Patricia','Tony','Violet']\n",
    "        print('Dale','Jameda','Joey','Kylie','Michael','Patricia','Tony','Violet')\n",
    "    if self.output_details[0]['shape'][1] == 9:\n",
    "        print('8 Classes')\n",
    "        class_labels = ['Null','Dale','Jameda','Joey','Kylie','Michael','Patricia','Tony','Violet']\n",
    "        print('Null','Dale','Jameda','Joey','Kylie','Michael','Patricia','Tony','Violet')\n",
    "\n",
    "        \n",
    "        \n",
    "        \n",
    "        \n",
    "    # This little helper wraps the TF Lite interpreter as a numpy-to-numpy function.\n",
    "    def lite_model(img):    \n",
    "        input_shape = input_details[0]['shape']\n",
    "\n",
    "        input_data = np.array(img, dtype=np.float32)\n",
    "        interpreter.set_tensor(input_details[0]['index'], input_data)\n",
    "\n",
    "        #interpreter.set_tensor(interpreter.get_input_details()[0]['index'], images)\n",
    "\n",
    "        interpreter.invoke()\n",
    "        return interpreter.get_tensor(output_details[0]['index'])\n",
    "        #return interpreter.get_tensor(interpreter.get_output_details()[0]['index'])\n",
    "        \n",
    "        \n",
    "    def requestResults(resultSet):\n",
    "        predicted_index = np.argmax(result_array, axis=-1)\n",
    "        prediction_strength = result_array[0][predicted_index]\n",
    "        if prediction_strength >= conThres:\n",
    "            predicted_label = class_labels[int(predicted_index)]\n",
    "            clear_output(wait=True) #True)\n",
    "            print('result_array = ', resultSet)\n",
    "            print('predicted_index = ', predicted_index)\n",
    "            print('prediction_strength = ', prediction_strength)\n",
    "            print('predicted_label = ', predicted_label)\n",
    "            #print('currentframe = ', currentframe)\n",
    "            if predicted_label != 'Null':\n",
    "                operateLock()\n",
    "\n",
    "        else:\n",
    "            #if currentframe % (3*capRatio) == 0:\n",
    "                clear_output(wait=True)\n",
    "                print('result_array = ')\n",
    "                print('predicted_index = ')\n",
    "                print('prediction_strength = ')\n",
    "                print('predicted_label = ')\n",
    "                #print('currentframe = ', currentframe)   \n",
    "                \n",
    "                \n",
    "                \n",
    "currentframe %capRatio == 0:\n",
    "    #print('frame.shape = ', frame.shape)\n",
    "    pipeFrame = cv2.resize(frame, (224, 224))\n",
    "    pipeFrame=pipeFrame / 255.0\n",
    "    #print('pipeFrame.shape = ', pipeFrame.shape)\n",
    "    #cv2.imshow('pipeFrame', pipeFrame)\n",
    "    expPipeFrame = np.expand_dims(pipeFrame, axis=0)\n",
    "    #print('expPipeFrame.shape = ', expPipeFrame.shape)\n",
    "    result_array = lite_model(expPipeFrame)\n",
    "    requestResults(result_array)"
   ]
  },
  {
   "cell_type": "markdown",
   "metadata": {},
   "source": [
    "### Defines lots of functions"
   ]
  },
  {
   "cell_type": "code",
   "execution_count": 56,
   "metadata": {},
   "outputs": [],
   "source": [
    "def lockDoor():\n",
    "    global lockStatus\n",
    "    print(\"Locking Door!\")\n",
    "    placeholder2 = 2\n",
    "    lockStatus = 1\n",
    "        "
   ]
  },
  {
   "cell_type": "code",
   "execution_count": 57,
   "metadata": {},
   "outputs": [],
   "source": [
    "def unlockDoor():\n",
    "    global lockStatus\n",
    "    print(\"Unlocking Door!\")\n",
    "    placeholder1 = 1\n",
    "    #print(lockStatus)\n",
    "    lockStatus = 0\n",
    "    #print(lockStatus)\n",
    "    "
   ]
  },
  {
   "cell_type": "code",
   "execution_count": 58,
   "metadata": {},
   "outputs": [],
   "source": [
    "def checkLock():\n",
    "    global lockStatus\n",
    "    global lockTimeOut\n",
    "    #print(\"checking lock\")\n",
    "    print(\"lockStatus = \", lockStatus)\n",
    "    print(\"lockTimeOut\", lockTimeOut)\n",
    "    if lockStatus == 0:\n",
    "        lockTimeOut -= 1\n",
    "        if lockTimeOut < 0:\n",
    "            lockDoor()\n",
    "            "
   ]
  },
  {
   "cell_type": "code",
   "execution_count": 59,
   "metadata": {},
   "outputs": [],
   "source": [
    "def operateLock():\n",
    "    global lockStatus\n",
    "    global lockTimeOut\n",
    "    lockTimeOut = 10 # Resets everytime operateLock is called\n",
    "    #print(lockStatus)\n",
    "    if lockStatus == 1:\n",
    "        unlockDoor()\n",
    "    else:\n",
    "        print(\"Door is Unlocked\")\n",
    "        "
   ]
  },
  {
   "cell_type": "code",
   "execution_count": 60,
   "metadata": {},
   "outputs": [],
   "source": [
    "\n",
    "    "
   ]
  },
  {
   "cell_type": "code",
   "execution_count": 61,
   "metadata": {},
   "outputs": [],
   "source": [
    "def requestResults(resultSet):\n",
    "    predicted_index = np.argmax(result_array, axis=-1)\n",
    "    prediction_strength = result_array[0][predicted_index]\n",
    "    if prediction_strength >= conThres:\n",
    "        predicted_label = class_labels[int(predicted_index)]\n",
    "        clear_output(wait=True) #True)\n",
    "        print('result_array = ', resultSet)\n",
    "        print('predicted_index = ', predicted_index)\n",
    "        print('prediction_strength = ', prediction_strength)\n",
    "        print('predicted_label = ', predicted_label)\n",
    "        #print('currentframe = ', currentframe)\n",
    "        if predicted_label != 'Null':\n",
    "            operateLock()\n",
    "        \n",
    "    else:\n",
    "        #if currentframe % (3*capRatio) == 0:\n",
    "            clear_output(wait=True)\n",
    "            print('result_array = ')\n",
    "            print('predicted_index = ')\n",
    "            print('prediction_strength = ')\n",
    "            print('predicted_label = ')\n",
    "            #print('currentframe = ', currentframe)"
   ]
  },
  {
   "cell_type": "markdown",
   "metadata": {},
   "source": [
    "#### Here we get the video feed and send it for inference in a loop"
   ]
  },
  {
   "cell_type": "code",
   "execution_count": 62,
   "metadata": {},
   "outputs": [
    {
     "name": "stdout",
     "output_type": "stream",
     "text": [
      "result_array =  [[0.00390625 0.00390625 0.00390625 0.         0.9765625  0.00390625\n",
      "  0.         0.00390625]]\n",
      "predicted_index =  [4]\n",
      "prediction_strength =  [0.9765625]\n",
      "predicted_label =  Michael\n",
      "Door is Unlocked\n",
      "lockStatus =  0\n",
      "lockTimeOut 10\n"
     ]
    }
   ],
   "source": [
    "capRatio = 25\n",
    "currentframe = 0\n",
    "\n",
    "cap = cv2.VideoCapture(0)\n",
    "\n",
    "while(True):\n",
    "    # Capture frame-by-frame\n",
    "    ret, frame = cap.read()\n",
    "\n",
    "    if currentframe %capRatio == 0:\n",
    "        #print('frame.shape = ', frame.shape)\n",
    "        pipeFrame = cv2.resize(frame, (224, 224))\n",
    "        pipeFrame=pipeFrame / 255.0\n",
    "        #print('pipeFrame.shape = ', pipeFrame.shape)\n",
    "        #cv2.imshow('pipeFrame', pipeFrame)\n",
    "        expPipeFrame = np.expand_dims(pipeFrame, axis=0)\n",
    "        #print('expPipeFrame.shape = ', expPipeFrame.shape)\n",
    "        result_array = lite_model(expPipeFrame)\n",
    "        requestResults(result_array)\n",
    "        \n",
    "        checkLock()\n",
    "    \n",
    "    # Display the resulting frame\n",
    "    cv2.imshow('frame', frame)\n",
    "\n",
    "    if cv2.waitKey(1) & 0xFF == ord('q'):\n",
    "        break\n",
    "\n",
    "    currentframe += 1\n",
    "    #print(currentframe)\n",
    "    if currentframe >= 1000000000000:\n",
    "        currentframe = 1\n",
    "\n",
    "# When everything done, release the capture\n",
    "cap.release()\n",
    "cv2.destroyAllWindows()"
   ]
  },
  {
   "cell_type": "markdown",
   "metadata": {},
   "source": [
    "# You should see output updating right here ^ with announcements of any activity!"
   ]
  }
 ],
 "metadata": {
  "kernelspec": {
   "display_name": "Python 3",
   "language": "python",
   "name": "python3"
  },
  "language_info": {
   "codemirror_mode": {
    "name": "ipython",
    "version": 3
   },
   "file_extension": ".py",
   "mimetype": "text/x-python",
   "name": "python",
   "nbconvert_exporter": "python",
   "pygments_lexer": "ipython3",
   "version": "3.7.3"
  }
 },
 "nbformat": 4,
 "nbformat_minor": 4
}
