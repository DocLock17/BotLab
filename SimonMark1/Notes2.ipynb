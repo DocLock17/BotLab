{
 "cells": [
  {
   "cell_type": "code",
   "execution_count": null,
   "metadata": {},
   "outputs": [],
   "source": []
  },
  {
   "cell_type": "code",
   "execution_count": null,
   "metadata": {},
   "outputs": [],
   "source": [
    "# # The Sample Extractor\n",
    "\n",
    "# import os\n",
    "# import time\n",
    "# import shutil\n",
    "# import glob\n",
    "\n",
    "# def extractFiles(storagePath, sampleFile, subFolder=''):\n",
    "    \n",
    "#     # Setup path variables\n",
    "#     copyName = 'Extractable_'+(time.strftime(\"%m%d%y_%H%M%S\", time.gmtime()))\n",
    "#     copyPath = storagePath+copyName\n",
    "#     zipPath = storagePath+subFolder+copyName\n",
    "#     transferredFiles = glob.glob(storagePath+sampleFile+'/*')\n",
    "    \n",
    "#     # copyPath Needs to be storage/extraction/\n",
    "    \n",
    "#     # Copy files from src to destination\n",
    "#     shutil.copytree((storagePath+sampleFile), copyPath)\n",
    "    \n",
    "#     # Zip temporary files into target location\n",
    "#     try:\n",
    "#         shutil.make_archive(zipPath, 'zip', storagePath, copyName)\n",
    "#     except OSError:\n",
    "#         pass\n",
    "    \n",
    "#     # Clean up transferred Images\n",
    "#     for f in transferredFiles:\n",
    "#         os.remove(f)\n",
    "        \n",
    "#     # Clean up tempory file\n",
    "#     shutil.rmtree(copyPath)\n",
    "    \n",
    "#     return\n",
    "\n",
    "\n",
    "# extractFiles('storage/','sampleImages','extraction/')"
   ]
  },
  {
   "cell_type": "code",
   "execution_count": null,
   "metadata": {},
   "outputs": [],
   "source": [
    "# ### This command works to copy zipped files from remote raspberry to local windows machine (RUN ON WINDOWS CMD LINE)\n",
    "# scp pi@10.0.0.201:/home/pi/CameraProject/extraction/*  C:/Users/micha/Desktop/UnsortedImages"
   ]
  },
  {
   "cell_type": "code",
   "execution_count": null,
   "metadata": {},
   "outputs": [],
   "source": [
    "# ### This command works to copy all files from remote raspberry to local windows machine (RUN ON WINDOWS CMD LINE)\n",
    "# scp pi@10.0.0.201:/home/pi/CameraProject/sampleImages/*  C:/Users/micha/Desktop/UnsortedImages"
   ]
  },
  {
   "cell_type": "code",
   "execution_count": null,
   "metadata": {},
   "outputs": [],
   "source": [
    "# ## Image Copier for making test backups\n",
    "# !cp -r /home/pi/CameraProject/sampleImagesBackup/* /home/pi/CameraProject/sampleImages/"
   ]
  }
 ],
 "metadata": {
  "kernelspec": {
   "display_name": "Python 3",
   "language": "python",
   "name": "python3"
  },
  "language_info": {
   "codemirror_mode": {
    "name": "ipython",
    "version": 3
   },
   "file_extension": ".py",
   "mimetype": "text/x-python",
   "name": "python",
   "nbconvert_exporter": "python",
   "pygments_lexer": "ipython3",
   "version": "3.7.3"
  }
 },
 "nbformat": 4,
 "nbformat_minor": 4
}
