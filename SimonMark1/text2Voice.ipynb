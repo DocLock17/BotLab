{
 "cells": [
  {
   "cell_type": "code",
   "execution_count": 3,
   "metadata": {},
   "outputs": [
    {
     "name": "stdout",
     "output_type": "stream",
     "text": [
      "Looking in indexes: https://pypi.org/simple, https://www.piwheels.org/simple\n",
      "Requirement already satisfied: pyttsx3 in ./env/lib/python3.7/site-packages (2.90)\n"
     ]
    }
   ],
   "source": [
    "# sudo apt-get update && sudo apt-get install espeak\n",
    "# !pip install pyttsx3\n",
    "import pyttsx3\n",
    "engine = pyttsx3.init()\n",
    "engine.setProperty('rate',110)\n",
    "engine.say(\"Hello Kylie, how are you?\")\n",
    "engine.runAndWait()"
   ]
  },
  {
   "cell_type": "code",
   "execution_count": 10,
   "metadata": {},
   "outputs": [],
   "source": [
    "## Very long don't run\n",
    "\n",
    "# import pyttsx3\n",
    "# engine= pyttsx3.init()\n",
    "# engine.setProperty('rate',70)\n",
    "# voices=engine.getProperty('voices')\n",
    "# for voice in voices:\n",
    "#     print(\"Using voice:\", repr(voice))\n",
    "#     engine.setProperty('voice',voice.id)\n",
    "#     engine.say(\"Hello Hello Hello\")\n",
    "# engine.runAndWait()"
   ]
  },
  {
   "cell_type": "code",
   "execution_count": 54,
   "metadata": {},
   "outputs": [],
   "source": []
  },
  {
   "cell_type": "code",
   "execution_count": 55,
   "metadata": {},
   "outputs": [],
   "source": []
  },
  {
   "cell_type": "code",
   "execution_count": 56,
   "metadata": {},
   "outputs": [],
   "source": []
  },
  {
   "cell_type": "code",
   "execution_count": 20,
   "metadata": {},
   "outputs": [
    {
     "name": "stdout",
     "output_type": "stream",
     "text": [
      "Using voice: <pyttsx3.voice.Voice object at 0x728dbfd0>\n",
      "Using voice: <pyttsx3.voice.Voice object at 0x728f2210>\n",
      "Using voice: <pyttsx3.voice.Voice object at 0x728f2170>\n",
      "Using voice: <pyttsx3.voice.Voice object at 0x728f21b0>\n",
      "Using voice: <pyttsx3.voice.Voice object at 0x728f2a90>\n",
      "Using voice: <pyttsx3.voice.Voice object at 0x728f2ab0>\n",
      "Using voice: <pyttsx3.voice.Voice object at 0x728f2b10>\n",
      "Using voice: <pyttsx3.voice.Voice object at 0x728f2b70>\n",
      "Using voice: <pyttsx3.voice.Voice object at 0x728f2bd0>\n",
      "Using voice: <pyttsx3.voice.Voice object at 0x728f2c10>\n",
      "Using voice: <pyttsx3.voice.Voice object at 0x728f2c70>\n",
      "Using voice: <pyttsx3.voice.Voice object at 0x728f2cd0>\n",
      "Using voice: <pyttsx3.voice.Voice object at 0x728f2cf0>\n",
      "Using voice: <pyttsx3.voice.Voice object at 0x728f2d30>\n",
      "Using voice: <pyttsx3.voice.Voice object at 0x728f2d70>\n",
      "Using voice: <pyttsx3.voice.Voice object at 0x728f2db0>\n",
      "Using voice: <pyttsx3.voice.Voice object at 0x728f2dd0>\n",
      "Using voice: <pyttsx3.voice.Voice object at 0x728f2df0>\n",
      "Using voice: <pyttsx3.voice.Voice object at 0x728f2e10>\n",
      "Using voice: <pyttsx3.voice.Voice object at 0x74cc3f90>\n",
      "Using voice: <pyttsx3.voice.Voice object at 0x728dbf30>\n",
      "Using voice: <pyttsx3.voice.Voice object at 0x728dbf50>\n",
      "Using voice: <pyttsx3.voice.Voice object at 0x728dbd50>\n",
      "Using voice: <pyttsx3.voice.Voice object at 0x728dbdb0>\n",
      "Using voice: <pyttsx3.voice.Voice object at 0x728dbc70>\n",
      "Using voice: <pyttsx3.voice.Voice object at 0x728db990>\n",
      "Using voice: <pyttsx3.voice.Voice object at 0x728db810>\n",
      "Using voice: <pyttsx3.voice.Voice object at 0x728dbcf0>\n",
      "Using voice: <pyttsx3.voice.Voice object at 0x728dbaf0>\n",
      "Using voice: <pyttsx3.voice.Voice object at 0x728db950>\n",
      "Using voice: <pyttsx3.voice.Voice object at 0x728dbc30>\n",
      "Using voice: <pyttsx3.voice.Voice object at 0x728db4d0>\n",
      "Using voice: <pyttsx3.voice.Voice object at 0x728dbb30>\n",
      "Using voice: <pyttsx3.voice.Voice object at 0x728dbb70>\n",
      "Using voice: <pyttsx3.voice.Voice object at 0x728db5b0>\n",
      "Using voice: <pyttsx3.voice.Voice object at 0x728db850>\n",
      "Using voice: <pyttsx3.voice.Voice object at 0x728dba50>\n",
      "Using voice: <pyttsx3.voice.Voice object at 0x728db9d0>\n",
      "Using voice: <pyttsx3.voice.Voice object at 0x728db750>\n",
      "Using voice: <pyttsx3.voice.Voice object at 0x728db790>\n",
      "Using voice: <pyttsx3.voice.Voice object at 0x728db610>\n",
      "Using voice: <pyttsx3.voice.Voice object at 0x728db7d0>\n",
      "Using voice: <pyttsx3.voice.Voice object at 0x728db130>\n",
      "Using voice: <pyttsx3.voice.Voice object at 0x728db7b0>\n",
      "Using voice: <pyttsx3.voice.Voice object at 0x728db490>\n",
      "Using voice: <pyttsx3.voice.Voice object at 0x728db690>\n",
      "Using voice: <pyttsx3.voice.Voice object at 0x728db590>\n",
      "Using voice: <pyttsx3.voice.Voice object at 0x728db350>\n",
      "Using voice: <pyttsx3.voice.Voice object at 0x728db510>\n",
      "Using voice: <pyttsx3.voice.Voice object at 0x73cb9610>\n",
      "Using voice: <pyttsx3.voice.Voice object at 0x73cb94b0>\n",
      "Using voice: <pyttsx3.voice.Voice object at 0x73c43df0>\n",
      "Using voice: <pyttsx3.voice.Voice object at 0x73c43f10>\n",
      "Using voice: <pyttsx3.voice.Voice object at 0x73c50930>\n",
      "Using voice: <pyttsx3.voice.Voice object at 0x73c50970>\n",
      "Using voice: <pyttsx3.voice.Voice object at 0x73c50850>\n",
      "Using voice: <pyttsx3.voice.Voice object at 0x73c50950>\n",
      "Using voice: <pyttsx3.voice.Voice object at 0x73c50ad0>\n",
      "Using voice: <pyttsx3.voice.Voice object at 0x73c50a50>\n",
      "Using voice: <pyttsx3.voice.Voice object at 0x73c508f0>\n",
      "Using voice: <pyttsx3.voice.Voice object at 0x73c504d0>\n",
      "Using voice: <pyttsx3.voice.Voice object at 0x73c505d0>\n",
      "Using voice: <pyttsx3.voice.Voice object at 0x73c508b0>\n",
      "Using voice: <pyttsx3.voice.Voice object at 0x73256610>\n",
      "Using voice: <pyttsx3.voice.Voice object at 0x732564f0>\n",
      "Using voice: <pyttsx3.voice.Voice object at 0x73256430>\n",
      "Using voice: <pyttsx3.voice.Voice object at 0x732565b0>\n",
      "Using voice: <pyttsx3.voice.Voice object at 0x73256810>\n",
      "Using voice: <pyttsx3.voice.Voice object at 0x73256630>\n"
     ]
    }
   ],
   "source": []
  },
  {
   "cell_type": "code",
   "execution_count": null,
   "metadata": {},
   "outputs": [],
   "source": []
  }
 ],
 "metadata": {
  "kernelspec": {
   "display_name": "Python 3",
   "language": "python",
   "name": "python3"
  },
  "language_info": {
   "codemirror_mode": {
    "name": "ipython",
    "version": 3
   },
   "file_extension": ".py",
   "mimetype": "text/x-python",
   "name": "python",
   "nbconvert_exporter": "python",
   "pygments_lexer": "ipython3",
   "version": "3.7.3"
  }
 },
 "nbformat": 4,
 "nbformat_minor": 4
}
