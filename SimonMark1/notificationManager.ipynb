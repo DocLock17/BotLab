{
 "cells": [
  {
   "cell_type": "code",
   "execution_count": null,
   "metadata": {},
   "outputs": [],
   "source": [
    "import io\n",
    "import os\n",
    "import sys\n",
    "import time\n",
    "import picamera\n",
    "import logging\n",
    "import webbrowser \n",
    "import numpy as np\n",
    "import smtplib, ssl\n",
    "from numpy import asarray\n",
    "import socketserver\n",
    "from time import sleep\n",
    "from threading import Condition\n",
    "from http import server\n",
    "from PIL import Image\n",
    "from urllib.parse import parse_qs\n",
    "\n",
    "class notificationManager()        \n",
    "        \n",
    "    def notifyOwner(notificationSelection, notificationContent=\"\"):\n",
    "        port = userSettings.emailPort\n",
    "        smtp_server = userSettings.smtpServer\n",
    "        sender_email = userSettings.sender_email\n",
    "        receiver_email = userSettings.ownerEmail\n",
    "        #password = input(\"Type your password and press enter:\")\n",
    "        password = userSettings.notificationAuth\n",
    "        message = \"\"\"\\\n",
    "        Subject: LockCam Notification\n",
    "\n",
    "        \"\"\"\n",
    "        if notificationSelection == 1 or notificationSelection == 2:\n",
    "            message += \"\"\"\\\n",
    "            Motion has been detected.\n",
    "\n",
    "            \"\"\"\n",
    "            if notificationContent!='':\n",
    "                message+= \"\"\"\\\n",
    "                The subject has been identified as \"\"\" + notificationContent\n",
    "            else:\n",
    "                message+= \"\"\"\\\n",
    "                The subject cannot be identified. \"\"\" + notificationContent\n",
    "\n",
    "        context = ssl.create_default_context()\n",
    "        with smtplib.SMTP(smtp_server, port) as server:\n",
    "            server.ehlo()  # Can be omitted\n",
    "            server.starttls(context=context)\n",
    "            server.ehlo()  # Can be omitted\n",
    "            server.login(sender_email, password)\n",
    "            server.sendmail(sender_email, receiver_email, message)\n",
    "            \n",
    "            \n",
    "    def logVisitor(inferenceValue=0):\n",
    "        if infernceValue!=0:\n",
    "            if infernceValue==1: # this should be a dict lookup\n",
    "                inferenceName = userSettings.authGuest[inferenceValue]\n",
    "\n",
    "        else:\n",
    "            inferenceName='Unidentified Individual'\n",
    "\n",
    "\n",
    "        # write a log entry concerning person\n",
    "        return inferenceName\n"
   ]
  },
  {
   "cell_type": "code",
   "execution_count": null,
   "metadata": {},
   "outputs": [],
   "source": [
    "noteMan = notificationManager()\n",
    "noteMan.notifyOwner(0)"
   ]
  }
 ],
 "metadata": {
  "kernelspec": {
   "display_name": "Python 3",
   "language": "python",
   "name": "python3"
  },
  "language_info": {
   "codemirror_mode": {
    "name": "ipython",
    "version": 3
   },
   "file_extension": ".py",
   "mimetype": "text/x-python",
   "name": "python",
   "nbconvert_exporter": "python",
   "pygments_lexer": "ipython3",
   "version": "3.7.3"
  }
 },
 "nbformat": 4,
 "nbformat_minor": 4
}
