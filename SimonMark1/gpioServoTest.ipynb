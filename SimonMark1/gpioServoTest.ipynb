{
 "cells": [
  {
   "cell_type": "code",
   "execution_count": null,
   "metadata": {},
   "outputs": [],
   "source": [
    "# GPIO Servo Test script\n",
    "\n",
    "from gpiozero import Servo\n",
    "from time import sleep\n",
    "\n",
    "servo = Servo(14)\n",
    "\n",
    "while True:\n",
    "    servo.mid()\n",
    "    print(\"mid\")\n",
    "    sleep(0.5)\n",
    "    servo.min()\n",
    "    print(\"mid\")\n",
    "    sleep(1)\n",
    "    servo.mid()\n",
    "    print(\"mid\")\n",
    "    sleep(0.5)\n",
    "    servo.max()\n",
    "    print(\"mid\")\n",
    "    sleep(1)"
   ]
  },
  {
   "cell_type": "code",
   "execution_count": null,
   "metadata": {},
   "outputs": [],
   "source": [
    "# process_yaml.py file\n",
    "\n",
    "import yaml\n",
    "\n",
    "with open(r'E:\\data\\fruits.yaml') as file:\n",
    "    # The FullLoader parameter handles the conversion from YAML\n",
    "    # scalar values to Python the dictionary format\n",
    "    fruits_list = yaml.load(file, Loader=yaml.FullLoader)\n",
    "\n",
    "    print(fruits_list)"
   ]
  },
  {
   "cell_type": "raw",
   "metadata": {},
   "source": [
    "# fruits.yaml file\n",
    "\n",
    "apples: 20\n",
    "mangoes: 2\n",
    "bananas: 3\n",
    "grapes: 100\n",
    "pineapples: 1"
   ]
  },
  {
   "cell_type": "code",
   "execution_count": null,
   "metadata": {},
   "outputs": [],
   "source": [
    "# read_categories.py file\n",
    "\n",
    "import yaml\n",
    "\n",
    "with open(r'E:\\data\\categories.yaml') as file:\n",
    "    documents = yaml.full_load(file)\n",
    "\n",
    "    for item, doc in documents.items():\n",
    "        print(item, \":\", doc)"
   ]
  },
  {
   "cell_type": "code",
   "execution_count": null,
   "metadata": {},
   "outputs": [],
   "source": [
    "import yaml\n",
    "\n",
    "dict_file = [{'sports' : ['soccer', 'football', 'basketball', 'cricket', 'hockey', 'table tennis']},\n",
    "{'countries' : ['Pakistan', 'USA', 'India', 'China', 'Germany', 'France', 'Spain']}]\n",
    "\n",
    "with open(r'E:\\data\\store_file.yaml', 'w') as file:\n",
    "    documents = yaml.dump(dict_file, file)"
   ]
  },
  {
   "cell_type": "code",
   "execution_count": null,
   "metadata": {},
   "outputs": [],
   "source": [
    "import yaml\n",
    "\n",
    "# userSettingsDict = {'Java': 'None', 'Page': 'index.html', 'Styles': 'style.css', \n",
    "#                      'captureDirectory': 'sampleImages', 'captureStillOn': True, 'emailPort': 587, \n",
    "#                      'extractionDirectory': 'extraction/', 'extractionThreshold': 1000, \n",
    "#                      'inferIdentity': False, 'notDelay': 300, 'notificationAuth': 'NotifyMe1!', \n",
    "#                      'notificationType': 0, 'ownerEmail': 'notify.lockindustries@gmail.com', \n",
    "#                      'programDirectory': '/home/pi/CameraProject/', \n",
    "#                      'senderEmail': 'notify.lockindustries@gmail.com', 'smtpServer': 'smtp.gmail.com'}\n",
    "\n",
    "with open(r'/home/pi/CameraProject/settings.yaml', 'w') as file:\n",
    "    documents = yaml.dump(uSetDict, file)"
   ]
  },
  {
   "cell_type": "code",
   "execution_count": null,
   "metadata": {},
   "outputs": [],
   "source": [
    "#!/usr/bin/env python3\n",
    "import yaml\n",
    "with open(r'/home/pi/CameraProject/settings.yaml') as file:   ### This needs to be made CWD\n",
    "    self.userSettingsDict = yaml.load(file, Loader=yaml.FullLoader)\n",
    "    print(self.userSettingsDict)"
   ]
  },
  {
   "cell_type": "code",
   "execution_count": null,
   "metadata": {},
   "outputs": [],
   "source": [
    "# with open(r'/home/pi/CameraProject/settings.yaml', 'w') as file:\n",
    "#     documents = yaml.dump(self.userSettingsDict, file)"
   ]
  },
  {
   "cell_type": "code",
   "execution_count": null,
   "metadata": {},
   "outputs": [],
   "source": [
    "with open(r'/home/pi/CameraProject/authorizations.yaml') as file:   ### This needs to be made CWD ####\n",
    "    authorizationsDict = yaml.load(file, Loader=yaml.FullLoader)\n",
    "authGuest = []\n",
    "for i in range(0, len(authorizationsDict)):\n",
    "    authGuest.append(authorizationsDict[i])"
   ]
  },
  {
   "cell_type": "code",
   "execution_count": null,
   "metadata": {},
   "outputs": [],
   "source": [
    "\n",
    "authorizationsDict = { i : authGuest[i] for i in range(0, len(authGuest) ) }\n",
    "with open(r'/home/pi/CameraProject/authorizations.yaml', 'w') as file:\n",
    "    yaml.dump(authorizationsDict, file)\n"
   ]
  }
 ],
 "metadata": {
  "kernelspec": {
   "display_name": "Python 3",
   "language": "python",
   "name": "python3"
  },
  "language_info": {
   "codemirror_mode": {
    "name": "ipython",
    "version": 3
   },
   "file_extension": ".py",
   "mimetype": "text/x-python",
   "name": "python",
   "nbconvert_exporter": "python",
   "pygments_lexer": "ipython3",
   "version": "3.7.3"
  }
 },
 "nbformat": 4,
 "nbformat_minor": 4
}
