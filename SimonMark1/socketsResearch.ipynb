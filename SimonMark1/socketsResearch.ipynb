{
 "cells": [
  {
   "cell_type": "code",
   "execution_count": null,
   "metadata": {},
   "outputs": [],
   "source": []
  },
  {
   "cell_type": "code",
   "execution_count": null,
   "metadata": {},
   "outputs": [],
   "source": []
  },
  {
   "cell_type": "markdown",
   "metadata": {},
   "source": [
    "I have two scripts, Server.py and Client.py. I have two objectives in mind:\n",
    "\n",
    "    To be able to send data again and again to server from client.\n",
    "    To be able to send data from Server to client.\n",
    "\n",
    "here is my Server.py : "
   ]
  },
  {
   "cell_type": "code",
   "execution_count": null,
   "metadata": {},
   "outputs": [],
   "source": [
    "import socket\n",
    "\n",
    "serversocket = socket.socket(socket.AF_INET, socket.SOCK_STREAM)\n",
    "host = \"192.168.1.3\"\n",
    "port = 8000\n",
    "print (host)\n",
    "print (port)\n",
    "serversocket.bind((host, port))\n",
    "\n",
    "serversocket.listen(5)\n",
    "print ('server started and listening')\n",
    "while 1:\n",
    "    (clientsocket, address) = serversocket.accept()\n",
    "    print (\"connection found!\")\n",
    "    data = clientsocket.recv(1024).decode()\n",
    "    print (data)\n",
    "    r='REceieve'\n",
    "    clientsocket.send(r.encode())"
   ]
  },
  {
   "cell_type": "markdown",
   "metadata": {},
   "source": [
    "and here is my client : "
   ]
  },
  {
   "cell_type": "code",
   "execution_count": null,
   "metadata": {},
   "outputs": [],
   "source": [
    "#! /usr/bin/python3\n",
    "\n",
    "import socket\n",
    "\n",
    "s = socket.socket(socket.AF_INET, socket.SOCK_STREAM)\n",
    "host =\"192.168.1.3\"\n",
    "port =8000\n",
    "s.connect((host,port))\n",
    "\n",
    "def ts(str):\n",
    "   s.send('e'.encode()) \n",
    "   data = ''\n",
    "   data = s.recv(1024).decode()\n",
    "   print (data)\n",
    "\n",
    "while 2:\n",
    "   r = input('enter')\n",
    "   ts(s)\n",
    "\n",
    "s.close ()"
   ]
  },
  {
   "cell_type": "markdown",
   "metadata": {},
   "source": [
    "The Fix"
   ]
  },
  {
   "cell_type": "code",
   "execution_count": null,
   "metadata": {},
   "outputs": [],
   "source": [
    "import socket\n",
    "from threading import *\n",
    "\n",
    "serversocket = socket.socket(socket.AF_INET, socket.SOCK_STREAM)\n",
    "host = \"192.168.1.3\"\n",
    "port = 8000\n",
    "print (host)\n",
    "print (port)\n",
    "serversocket.bind((host, port))\n",
    "\n",
    "class client(Thread):\n",
    "    def __init__(self, socket, address):\n",
    "        Thread.__init__(self)\n",
    "        self.sock = socket\n",
    "        self.addr = address\n",
    "        self.start()\n",
    "\n",
    "    def run(self):\n",
    "        while 1:\n",
    "            print('Client sent:', self.sock.recv(1024).decode())\n",
    "            self.sock.send(b'Oi you sent something to me')\n",
    "\n",
    "serversocket.listen(5)\n",
    "print ('server started and listening')\n",
    "while 1:\n",
    "    clientsocket, address = serversocket.accept()\n",
    "    client(clientsocket, address)"
   ]
  },
  {
   "cell_type": "code",
   "execution_count": null,
   "metadata": {},
   "outputs": [],
   "source": []
  },
  {
   "cell_type": "code",
   "execution_count": null,
   "metadata": {},
   "outputs": [],
   "source": []
  },
  {
   "cell_type": "code",
   "execution_count": null,
   "metadata": {},
   "outputs": [],
   "source": []
  }
 ],
 "metadata": {
  "kernelspec": {
   "display_name": "Python 3",
   "language": "python",
   "name": "python3"
  },
  "language_info": {
   "codemirror_mode": {
    "name": "ipython",
    "version": 3
   },
   "file_extension": ".py",
   "mimetype": "text/x-python",
   "name": "python",
   "nbconvert_exporter": "python",
   "pygments_lexer": "ipython3",
   "version": "3.7.3"
  }
 },
 "nbformat": 4,
 "nbformat_minor": 4
}
