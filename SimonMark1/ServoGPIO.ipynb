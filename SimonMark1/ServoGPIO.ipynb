{
 "cells": [
  {
   "cell_type": "code",
   "execution_count": null,
   "metadata": {},
   "outputs": [],
   "source": [
    "#!pip install gpiozero\n",
    "!pip install rpi.gpio"
   ]
  },
  {
   "cell_type": "code",
   "execution_count": 74,
   "metadata": {},
   "outputs": [],
   "source": [
    "import RPi.GPIO as GPIO\n",
    "import time"
   ]
  },
  {
   "cell_type": "code",
   "execution_count": 85,
   "metadata": {},
   "outputs": [],
   "source": [
    "servoPIN = 17\n",
    "GPIO.setmode(GPIO.BCM)\n",
    "GPIO.setup(servoPIN, GPIO.OUT)\n",
    "\n",
    "p = GPIO.PWM(servoPIN, 50) # GPIO 17 for PWM with 50Hz\n",
    "p.start(7.4) # Initialization\n",
    "boltFlag = 0"
   ]
  },
  {
   "cell_type": "code",
   "execution_count": 86,
   "metadata": {},
   "outputs": [],
   "source": [
    "\n",
    "def boltOut():\n",
    "    global boltFlag\n",
    "    if boltFlag == 0:\n",
    "        try:\n",
    "            p.ChangeDutyCycle(12)\n",
    "            boltFlag = 1\n",
    "            time.sleep(0.5)\n",
    "        except KeyboardInterrupt:\n",
    "            p.stop()\n",
    "            GPIO.cleanup()\n",
    "    return\n",
    "\n",
    "def boltIn():\n",
    "    global boltFlag\n",
    "    if boltFlag == 1:\n",
    "        try:\n",
    "            p.ChangeDutyCycle(7.4)\n",
    "            boltFlag = 0\n",
    "            time.sleep(0.5)\n",
    "        except KeyboardInterrupt:\n",
    "            p.stop()\n",
    "            GPIO.cleanup()\n",
    "    return\n",
    "\n",
    "def term():\n",
    "    print(\"Closing\")\n",
    "    p.stop()\n",
    "    GPIO.cleanup()\n",
    "    return"
   ]
  },
  {
   "cell_type": "code",
   "execution_count": 87,
   "metadata": {},
   "outputs": [],
   "source": [
    "boltOut()"
   ]
  },
  {
   "cell_type": "code",
   "execution_count": 88,
   "metadata": {},
   "outputs": [],
   "source": [
    "boltIn()"
   ]
  },
  {
   "cell_type": "code",
   "execution_count": 89,
   "metadata": {},
   "outputs": [],
   "source": [
    "boltOut()\n",
    "time.sleep(0.5)\n",
    "boltIn()"
   ]
  },
  {
   "cell_type": "code",
   "execution_count": 90,
   "metadata": {},
   "outputs": [
    {
     "name": "stdout",
     "output_type": "stream",
     "text": [
      "Closing\n"
     ]
    }
   ],
   "source": [
    "term()\n",
    "p = 0"
   ]
  },
  {
   "cell_type": "code",
   "execution_count": 32,
   "metadata": {},
   "outputs": [],
   "source": []
  },
  {
   "cell_type": "code",
   "execution_count": null,
   "metadata": {},
   "outputs": [],
   "source": [
    "# # original recipe\n",
    "# import RPi.GPIO as GPIO\n",
    "# import time\n",
    "\n",
    "# servoPIN = 17\n",
    "# GPIO.setmode(GPIO.BCM)\n",
    "# GPIO.setup(servoPIN, GPIO.OUT)\n",
    "\n",
    "# p = GPIO.PWM(servoPIN, 50) # GPIO 17 for PWM with 50Hz\n",
    "# p.start(2.5) # Initialization\n",
    "# try:\n",
    "#     while True:\n",
    "#         p.ChangeDutyCycle(5)\n",
    "#         time.sleep(0.5)\n",
    "#         p.ChangeDutyCycle(7.5)\n",
    "#         time.sleep(0.5)\n",
    "#         p.ChangeDutyCycle(10)\n",
    "#         time.sleep(0.5)\n",
    "#         p.ChangeDutyCycle(12.5)\n",
    "#         time.sleep(0.5)\n",
    "#         p.ChangeDutyCycle(10)\n",
    "#         time.sleep(0.5)\n",
    "#         p.ChangeDutyCycle(7.5)\n",
    "#         time.sleep(0.5)\n",
    "#         p.ChangeDutyCycle(5)\n",
    "#         time.sleep(0.5)\n",
    "#         p.ChangeDutyCycle(2.5)\n",
    "# except KeyboardInterrupt:\n",
    "#     p.stop()\n",
    "#     GPIO.cleanup()"
   ]
  },
  {
   "cell_type": "code",
   "execution_count": null,
   "metadata": {},
   "outputs": [],
   "source": [
    "# ## Doesn't work???\n",
    "\n",
    "# # GPIO Servo Test script\n",
    "\n",
    "# from gpiozero import Servo\n",
    "# from time import sleep\n",
    "\n",
    "# servo = Servo(18)\n",
    "\n",
    "# while True:\n",
    "#     servo.mid()\n",
    "#     print(\"mid\")\n",
    "#     sleep(0.5)\n",
    "#     servo.min()\n",
    "#     print(\"mid\")\n",
    "#     sleep(1)\n",
    "#     servo.mid()\n",
    "#     print(\"mid\")\n",
    "#     sleep(0.5)\n",
    "#     servo.max()\n",
    "#     print(\"mid\")\n",
    "#     sleep(1)"
   ]
  }
 ],
 "metadata": {
  "kernelspec": {
   "display_name": "Python 3",
   "language": "python",
   "name": "python3"
  },
  "language_info": {
   "codemirror_mode": {
    "name": "ipython",
    "version": 3
   },
   "file_extension": ".py",
   "mimetype": "text/x-python",
   "name": "python",
   "nbconvert_exporter": "python",
   "pygments_lexer": "ipython3",
   "version": "3.7.3"
  }
 },
 "nbformat": 4,
 "nbformat_minor": 4
}
