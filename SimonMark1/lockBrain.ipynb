{
 "cells": [
  {
   "cell_type": "code",
   "execution_count": null,
   "metadata": {},
   "outputs": [],
   "source": [
    "\n",
    "class netCore():\n",
    "\n",
    "    def turingTest(sample):\n",
    "        # Provides space for human check\n",
    "        sizedSampleArray = np.array(Image.open(io.BytesIO(sample)).resize((224,224),))\n",
    "        result = 0\n",
    "        return result\n",
    "\n",
    "    def indentitySubject(sample):\n",
    "        # Provides space for indentity check\n",
    "        result = 0\n",
    "        return result\n",
    "\n",
    "        \n",
    "        "
   ]
  },
  {
   "cell_type": "code",
   "execution_count": null,
   "metadata": {},
   "outputs": [],
   "source": [
    "neCo = netCore()\n",
    "sample = #image\n",
    "result1 = neCo.turingTest(sample)\n",
    "result2 = neCo.indentifySubject(sample)"
   ]
  },
  {
   "cell_type": "code",
   "execution_count": null,
   "metadata": {},
   "outputs": [],
   "source": []
  }
 ],
 "metadata": {
  "kernelspec": {
   "display_name": "Python 3",
   "language": "python",
   "name": "python3"
  },
  "language_info": {
   "codemirror_mode": {
    "name": "ipython",
    "version": 3
   },
   "file_extension": ".py",
   "mimetype": "text/x-python",
   "name": "python",
   "nbconvert_exporter": "python",
   "pygments_lexer": "ipython3",
   "version": "3.7.3"
  }
 },
 "nbformat": 4,
 "nbformat_minor": 4
}
