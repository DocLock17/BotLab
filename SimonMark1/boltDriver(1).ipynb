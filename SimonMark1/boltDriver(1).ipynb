{
 "cells": [
  {
   "cell_type": "code",
   "execution_count": null,
   "metadata": {},
   "outputs": [],
   "source": []
  },
  {
   "cell_type": "code",
   "execution_count": 55,
   "metadata": {},
   "outputs": [],
   "source": [
    "#!/usr/bin/env python3\n",
    "import RPi.GPIO as GPIO\n",
    "import time\n",
    "\n",
    "class boltDriver():\n",
    "    # A Driver for LockCam Servo Motors\n",
    "    def __init__(self, pinAssigned):\n",
    "        self.servoPIN = pinAssigned\n",
    "        GPIO.setmode(GPIO.BCM)\n",
    "        GPIO.setup(self.servoPIN, GPIO.OUT)\n",
    "\n",
    "        self.p = GPIO.PWM(self.servoPIN, 50) # GPIO 17 for PWM with 50Hz\n",
    "        self.p.start(7.4) # Initialization\n",
    "        self.boltFlag = 0\n",
    "\n",
    "        \n",
    "    def engage(self):\n",
    "        if self.boltFlag == 0:\n",
    "            try:\n",
    "                self.p.ChangeDutyCycle(12.5)\n",
    "                self.boltFlag = 1\n",
    "                time.sleep(0.5)\n",
    "            except KeyboardInterrupt:\n",
    "                self.p.stop()\n",
    "                GPIO.cleanup()\n",
    "        return\n",
    "\n",
    "    \n",
    "    def disengage(self):\n",
    "        if self.boltFlag == 1:\n",
    "            try:\n",
    "                self.p.ChangeDutyCycle(7.4)\n",
    "                self.boltFlag = 0\n",
    "                time.sleep(0.5)\n",
    "            except KeyboardInterrupt:\n",
    "                self.p.stop()\n",
    "                GPIO.cleanup()\n",
    "        return\n",
    "\n",
    "    \n",
    "    def destroy(self):\n",
    "        self.p.stop()\n",
    "        GPIO.cleanup()\n",
    "        self.p = 0\n",
    "        return"
   ]
  },
  {
   "cell_type": "code",
   "execution_count": 61,
   "metadata": {},
   "outputs": [
    {
     "ename": "RuntimeError",
     "evalue": "A PWM object already exists for this GPIO channel",
     "output_type": "error",
     "traceback": [
      "\u001b[0;31m---------------------------------------------------------------------------\u001b[0m",
      "\u001b[0;31mRuntimeError\u001b[0m                              Traceback (most recent call last)",
      "\u001b[0;32m<ipython-input-61-988f547cc8bf>\u001b[0m in \u001b[0;36m<module>\u001b[0;34m\u001b[0m\n\u001b[0;32m----> 1\u001b[0;31m \u001b[0mlock\u001b[0m \u001b[0;34m=\u001b[0m \u001b[0mboltDriver\u001b[0m\u001b[0;34m(\u001b[0m\u001b[0;36m17\u001b[0m\u001b[0;34m)\u001b[0m\u001b[0;34m\u001b[0m\u001b[0;34m\u001b[0m\u001b[0m\n\u001b[0m",
      "\u001b[0;32m<ipython-input-55-67db1522491d>\u001b[0m in \u001b[0;36m__init__\u001b[0;34m(self, pinAssigned)\u001b[0m\n\u001b[1;32m     10\u001b[0m         \u001b[0mGPIO\u001b[0m\u001b[0;34m.\u001b[0m\u001b[0msetup\u001b[0m\u001b[0;34m(\u001b[0m\u001b[0mself\u001b[0m\u001b[0;34m.\u001b[0m\u001b[0mservoPIN\u001b[0m\u001b[0;34m,\u001b[0m \u001b[0mGPIO\u001b[0m\u001b[0;34m.\u001b[0m\u001b[0mOUT\u001b[0m\u001b[0;34m)\u001b[0m\u001b[0;34m\u001b[0m\u001b[0;34m\u001b[0m\u001b[0m\n\u001b[1;32m     11\u001b[0m \u001b[0;34m\u001b[0m\u001b[0m\n\u001b[0;32m---> 12\u001b[0;31m         \u001b[0mself\u001b[0m\u001b[0;34m.\u001b[0m\u001b[0mp\u001b[0m \u001b[0;34m=\u001b[0m \u001b[0mGPIO\u001b[0m\u001b[0;34m.\u001b[0m\u001b[0mPWM\u001b[0m\u001b[0;34m(\u001b[0m\u001b[0mself\u001b[0m\u001b[0;34m.\u001b[0m\u001b[0mservoPIN\u001b[0m\u001b[0;34m,\u001b[0m \u001b[0;36m50\u001b[0m\u001b[0;34m)\u001b[0m \u001b[0;31m# GPIO 17 for PWM with 50Hz\u001b[0m\u001b[0;34m\u001b[0m\u001b[0;34m\u001b[0m\u001b[0m\n\u001b[0m\u001b[1;32m     13\u001b[0m         \u001b[0mself\u001b[0m\u001b[0;34m.\u001b[0m\u001b[0mp\u001b[0m\u001b[0;34m.\u001b[0m\u001b[0mstart\u001b[0m\u001b[0;34m(\u001b[0m\u001b[0;36m7.4\u001b[0m\u001b[0;34m)\u001b[0m \u001b[0;31m# Initialization\u001b[0m\u001b[0;34m\u001b[0m\u001b[0;34m\u001b[0m\u001b[0m\n\u001b[1;32m     14\u001b[0m         \u001b[0mself\u001b[0m\u001b[0;34m.\u001b[0m\u001b[0mboltFlag\u001b[0m \u001b[0;34m=\u001b[0m \u001b[0;36m0\u001b[0m\u001b[0;34m\u001b[0m\u001b[0;34m\u001b[0m\u001b[0m\n",
      "\u001b[0;31mRuntimeError\u001b[0m: A PWM object already exists for this GPIO channel"
     ]
    }
   ],
   "source": [
    "lock = boltDriver(17)"
   ]
  },
  {
   "cell_type": "code",
   "execution_count": 60,
   "metadata": {},
   "outputs": [],
   "source": [
    "lock.engage()"
   ]
  },
  {
   "cell_type": "code",
   "execution_count": 49,
   "metadata": {},
   "outputs": [],
   "source": [
    "lock.disengage()"
   ]
  },
  {
   "cell_type": "code",
   "execution_count": 95,
   "metadata": {},
   "outputs": [],
   "source": [
    "lock.engage()\n",
    "time.sleep(0.5)\n",
    "lock.disengage()"
   ]
  },
  {
   "cell_type": "code",
   "execution_count": 62,
   "metadata": {},
   "outputs": [],
   "source": [
    "lock.destroy()"
   ]
  },
  {
   "cell_type": "code",
   "execution_count": null,
   "metadata": {},
   "outputs": [],
   "source": [
    "#!pip install gpiozero\n",
    "!pip install rpi.gpio"
   ]
  },
  {
   "cell_type": "code",
   "execution_count": null,
   "metadata": {},
   "outputs": [],
   "source": []
  },
  {
   "cell_type": "code",
   "execution_count": null,
   "metadata": {},
   "outputs": [],
   "source": [
    "# # original recipe\n",
    "# import RPi.GPIO as GPIO\n",
    "# import time\n",
    "\n",
    "# servoPIN = 17\n",
    "# GPIO.setmode(GPIO.BCM)\n",
    "# GPIO.setup(servoPIN, GPIO.OUT)\n",
    "\n",
    "# p = GPIO.PWM(servoPIN, 50) # GPIO 17 for PWM with 50Hz\n",
    "# p.start(2.5) # Initialization\n",
    "# try:\n",
    "#     while True:\n",
    "#         p.ChangeDutyCycle(5)\n",
    "#         time.sleep(0.5)\n",
    "#         p.ChangeDutyCycle(7.5)\n",
    "#         time.sleep(0.5)\n",
    "#         p.ChangeDutyCycle(10)\n",
    "#         time.sleep(0.5)\n",
    "#         p.ChangeDutyCycle(12.5)\n",
    "#         time.sleep(0.5)\n",
    "#         p.ChangeDutyCycle(10)\n",
    "#         time.sleep(0.5)\n",
    "#         p.ChangeDutyCycle(7.5)\n",
    "#         time.sleep(0.5)\n",
    "#         p.ChangeDutyCycle(5)\n",
    "#         time.sleep(0.5)\n",
    "#         p.ChangeDutyCycle(2.5)\n",
    "# except KeyboardInterrupt:\n",
    "#     p.stop()\n",
    "#     GPIO.cleanup()"
   ]
  },
  {
   "cell_type": "code",
   "execution_count": null,
   "metadata": {},
   "outputs": [],
   "source": [
    "# ## Doesn't work???\n",
    "\n",
    "# # GPIO Servo Test script\n",
    "\n",
    "# from gpiozero import Servo\n",
    "# from time import sleep\n",
    "\n",
    "# servo = Servo(18)\n",
    "\n",
    "# while True:\n",
    "#     servo.mid()\n",
    "#     print(\"mid\")\n",
    "#     sleep(0.5)\n",
    "#     servo.min()\n",
    "#     print(\"mid\")\n",
    "#     sleep(1)\n",
    "#     servo.mid()\n",
    "#     print(\"mid\")\n",
    "#     sleep(0.5)\n",
    "#     servo.max()\n",
    "#     print(\"mid\")\n",
    "#     sleep(1)"
   ]
  }
 ],
 "metadata": {
  "kernelspec": {
   "display_name": "Python 3",
   "language": "python",
   "name": "python3"
  },
  "language_info": {
   "codemirror_mode": {
    "name": "ipython",
    "version": 3
   },
   "file_extension": ".py",
   "mimetype": "text/x-python",
   "name": "python",
   "nbconvert_exporter": "python",
   "pygments_lexer": "ipython3",
   "version": "3.7.3"
  }
 },
 "nbformat": 4,
 "nbformat_minor": 4
}
