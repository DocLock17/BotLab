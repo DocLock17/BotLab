{
 "cells": [
  {
   "cell_type": "code",
   "execution_count": null,
   "metadata": {},
   "outputs": [],
   "source": [
    "# Python utility to copy folder using shutil.copytree() method  \n",
    "import os\n",
    "import shutil\n",
    "\n",
    "# Source path\n",
    "src = '/home/pi/CameraProject/sampleImages'\n",
    "# src = '/home/pi/CameraProject/extractableImages'\n",
    "# Destination path  \n",
    "dest = '/home/pi/CameraProject/'\n",
    "destinationName = 'extractableImages'\n",
    "while os.path.isdir(dest+destinationName):\n",
    "    destinationName+='Copy'\n",
    "    \n",
    "# Copytree\n",
    "destination = shutil.copytree(src, dest+destinationName)  \n",
    "\n",
    "# Report\n",
    "print(\"Copying from: \", src,\" to: \", destination)\n"
   ]
  },
  {
   "cell_type": "code",
   "execution_count": null,
   "metadata": {},
   "outputs": [],
   "source": [
    "# Python utility to zip folder using shutil\n",
    "import os\n",
    "import shutil\n",
    "\n",
    "def makeZip(folderName, folderPath)\n",
    "    file_to_zip = folderName            # file to zip\n",
    "    target_path = folderPath     # dir, where file is\n",
    "\n",
    "    try:\n",
    "        shutil.make_archive(target_path + file_to_zip, 'zip', target_path, file_to_zip)\n",
    "    except OSError:\n",
    "        pass\n",
    "    return\n",
    "\n",
    "makeZip('extractableImages','/home/pi/CameraProject/')"
   ]
  },
  {
   "cell_type": "code",
   "execution_count": null,
   "metadata": {
    "scrolled": true
   },
   "outputs": [],
   "source": [
    "import os\n",
    "from PIL import Image\n",
    "\n",
    "def displayCollected(imgPath):\n",
    "    ## I made a little method to look at the pictures collected so far.\n",
    "    listPath=os.listdir(imgPath)\n",
    "    for imageName in listPath:\n",
    "        if imageName!='.ipynb_checkpoints':\n",
    "            display(Image.open(imgPath+imageName))\n",
    "    return\n",
    "\n",
    "displayCollected('/home/pi/CameraProject/sampleImages/')\n",
    "# displayCollected('/home/pi/CameraProject/extractableImages/')\n"
   ]
  },
  {
   "cell_type": "code",
   "execution_count": null,
   "metadata": {},
   "outputs": [],
   "source": [
    "# The Sample Extractor\n",
    "\n",
    "import os\n",
    "import time\n",
    "import shutil\n",
    "import glob\n",
    "\n",
    "def extractFiles(folderPath, folderName, subFolder=''):\n",
    "    \n",
    "    # Setup path variables\n",
    "    copyName = folderName+'_Extractable_'+(time.strftime(\"%Y-%m-%d_%H:%M:%S\", time.gmtime()))\n",
    "    copyPath = folderPath+copyName\n",
    "    zipPath = folderPath+subFolder+copyName\n",
    "    transferredFiles = glob.glob(folderPath+folderName+'/*')\n",
    "    \n",
    "    # Copy files from src to destination\n",
    "    shutil.copytree(folderName, copyPath)\n",
    "    \n",
    "    # Zip temporary files into target location\n",
    "    try:\n",
    "        shutil.make_archive(zipPath, 'zip', folderPath, copyName)\n",
    "    except OSError:\n",
    "        pass\n",
    "    \n",
    "    # Clean up transferred Images\n",
    "    for f in transferredFiles:\n",
    "        os.remove(f)\n",
    "        \n",
    "    # Clean up tempory file\n",
    "    shutil.rmtree(copyPath)\n",
    "    \n",
    "    return\n",
    "\n",
    "extractFiles('/home/pi/CameraProject/','sampleImages','extraction/')"
   ]
  }
 ],
 "metadata": {
  "kernelspec": {
   "display_name": "Python 3",
   "language": "python",
   "name": "python3"
  },
  "language_info": {
   "codemirror_mode": {
    "name": "ipython",
    "version": 3
   },
   "file_extension": ".py",
   "mimetype": "text/x-python",
   "name": "python",
   "nbconvert_exporter": "python",
   "pygments_lexer": "ipython3",
   "version": "3.7.3"
  }
 },
 "nbformat": 4,
 "nbformat_minor": 4
}
